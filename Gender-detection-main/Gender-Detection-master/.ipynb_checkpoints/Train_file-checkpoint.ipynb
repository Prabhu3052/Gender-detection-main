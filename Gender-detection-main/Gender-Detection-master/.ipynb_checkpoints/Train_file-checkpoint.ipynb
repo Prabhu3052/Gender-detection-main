{
 "cells": [
  {
   "cell_type": "code",
   "execution_count": null,
   "id": "2aba5ec5-791e-4f99-9b04-5c335e3d0373",
   "metadata": {},
   "outputs": [],
   "source": [
    "from tensorflow.keras.preprocessing.image import ImageDataGenerator\n",
    "from tensorflow.keras.optimizers import Adam\n",
    "from tensorflow.keras.preprocessing.image import img_to_array\n",
    "from tensorflow.keras.utils import to_categorical, plot_model\n",
    "from tensorflow.keras.models import Sequential\n",
    "from tensorflow.keras.layers import BatchNormalization, Conv2D, MaxPooling2D, Activation, Flatten, Dropout, Dense\n",
    "from tensorflow.keras import backend as K\n",
    "from sklearn.model_selection import train_test_split\n",
    "import matplotlib.pyplot as plt\n",
    "import numpy as np\n",
    "import random\n",
    "import cv2\n",
    "import os\n",
    "import glob"
   ]
  },
  {
   "cell_type": "code",
   "execution_count": null,
   "id": "0e704dbc-c6c7-4c2a-9e45-0d13b57afaef",
   "metadata": {},
   "outputs": [],
   "source": [
    "# Ensure the output directory exists\n",
    "output_dir = \"Model folder\"\n",
    "os.makedirs(output_dir, exist_ok=True)"
   ]
  },
  {
   "cell_type": "code",
   "execution_count": null,
   "id": "c0a032ac-b75d-4f13-af34-146c5cd5a57e",
   "metadata": {},
   "outputs": [],
   "source": [
    "# Initial parameters\n",
    "epochs = 100\n",
    "lr = 1e-3\n",
    "batch_size = 64\n",
    "img_dims = (96, 96, 3)\n",
    "\n",
    "data = []\n",
    "labels = []\n"
   ]
  },
  {
   "cell_type": "code",
   "execution_count": null,
   "id": "51029ca2-5772-42fa-9b55-aada1978395e",
   "metadata": {},
   "outputs": [],
   "source": [
    "# Load image files from the dataset\n",
    "image_files = [f for f in glob.glob(r'C:/Users/pp684/Videos/GitHub/Gender-detection-main/Gender-detection-main/Gender-Detection-master/gender_dataset_face' + \"/**/*\", recursive=True) if not os.path.isdir(f)]\n",
    "random.shuffle(image_files)"
   ]
  },
  {
   "cell_type": "code",
   "execution_count": null,
   "id": "396a4854-69f7-496b-bfe5-2b653edab12c",
   "metadata": {},
   "outputs": [],
   "source": [
    "# Converting images to arrays and labelling the categories\n",
    "for img in image_files:\n",
    "    image = cv2.imread(img)\n",
    "    image = cv2.resize(image, (img_dims[0], img_dims[1]))\n",
    "    image = img_to_array(image)\n",
    "    data.append(image)\n",
    "\n",
    "    label = img.split(os.path.sep)[-2]  # Extract label from folder structure\n",
    "    label = 1 if label == \"woman\" else 0\n",
    "    labels.append(label)"
   ]
  },
  {
   "cell_type": "code",
   "execution_count": null,
   "id": "0364a3e5-aee2-4190-85e4-494867e8935a",
   "metadata": {},
   "outputs": [],
   "source": [
    "# Preprocessing\n",
    "data = np.array(data, dtype=\"float\") / 255.0\n",
    "labels = np.array(labels)"
   ]
  },
  {
   "cell_type": "code",
   "execution_count": null,
   "id": "8f9fde50-d13f-4835-a8c4-59d05b98ee39",
   "metadata": {},
   "outputs": [],
   "source": [
    "# Split dataset for training and validation\n",
    "(trainX, testX, trainY, testY) = train_test_split(data, labels, test_size=0.2, random_state=42)\n",
    "\n",
    "trainY = to_categorical(trainY, num_classes=2)\n",
    "testY = to_categorical(testY, num_classes=2)\n"
   ]
  },
  {
   "cell_type": "code",
   "execution_count": null,
   "id": "9f773091-f62d-4bd4-9173-5868a9bbf689",
   "metadata": {},
   "outputs": [],
   "source": [
    "# Augmenting dataset\n",
    "aug = ImageDataGenerator(rotation_range=25, width_shift_range=0.1,\n",
    "                         height_shift_range=0.1, shear_range=0.2, zoom_range=0.2,\n",
    "                         horizontal_flip=True, fill_mode=\"nearest\")"
   ]
  },
  {
   "cell_type": "code",
   "execution_count": null,
   "id": "766d11e5-40c4-4154-9c4a-676cc53396ca",
   "metadata": {},
   "outputs": [],
   "source": [
    "# Define model\n",
    "def build(width, height, depth, classes):\n",
    "    model = Sequential()\n",
    "    inputShape = (height, width, depth)\n",
    "    chanDim = -1\n",
    "\n",
    "    if K.image_data_format() == \"channels_first\":\n",
    "        inputShape = (depth, height, width)\n",
    "        chanDim = 1\n",
    "\n",
    "    model.add(Conv2D(32, (3, 3), padding=\"same\", input_shape=inputShape))\n",
    "    model.add(Activation(\"relu\"))\n",
    "    model.add(BatchNormalization(axis=chanDim))\n",
    "    model.add(MaxPooling2D(pool_size=(3, 3)))\n",
    "    model.add(Dropout(0.25))\n",
    "\n",
    "    model.add(Conv2D(64, (3, 3), padding=\"same\"))\n",
    "    model.add(Activation(\"relu\"))\n",
    "    model.add(BatchNormalization(axis=chanDim))\n",
    "\n",
    "    model.add(Conv2D(64, (3, 3), padding=\"same\"))\n",
    "    model.add(Activation(\"relu\"))\n",
    "    model.add(BatchNormalization(axis=chanDim))\n",
    "    model.add(MaxPooling2D(pool_size=(2, 2)))\n",
    "    model.add(Dropout(0.25))\n",
    "\n",
    "    model.add(Conv2D(128, (3, 3), padding=\"same\"))\n",
    "    model.add(Activation(\"relu\"))\n",
    "    model.add(BatchNormalization(axis=chanDim))\n",
    "    \n",
    "    model.add(Conv2D(128, (3, 3), padding=\"same\"))\n",
    "    model.add(Activation(\"relu\"))\n",
    "    model.add(BatchNormalization(axis=chanDim))\n",
    "    model.add(MaxPooling2D(pool_size=(2, 2)))\n",
    "    model.add(Dropout(0.25))\n",
    "\n",
    "    model.add(Flatten())\n",
    "    model.add(Dense(1024))\n",
    "    model.add(Activation(\"relu\"))\n",
    "    model.add(BatchNormalization())\n",
    "    model.add(Dropout(0.5))\n",
    "\n",
    "    model.add(Dense(classes))\n",
    "    model.add(Activation(\"sigmoid\"))\n",
    "\n",
    "    return model"
   ]
  },
  {
   "cell_type": "code",
   "execution_count": null,
   "id": "2267ef74-f9ec-4e4e-ad8c-42e167644dd7",
   "metadata": {},
   "outputs": [],
   "source": [
    "\n",
    "# Build and compile the model\n",
    "model = build(width=img_dims[0], height=img_dims[1], depth=img_dims[2], classes=2)\n",
    "\n",
    "opt = Adam(learning_rate=lr, decay=lr/epochs)\n",
    "model.compile(loss=\"binary_crossentropy\", optimizer=opt, metrics=[\"accuracy\"])"
   ]
  },
  {
   "cell_type": "code",
   "execution_count": null,
   "id": "926c3bf2-c170-4044-a4fd-89b50cdb398f",
   "metadata": {},
   "outputs": [],
   "source": [
    "# Train the model\n",
    "H = model.fit(aug.flow(trainX, trainY, batch_size=batch_size),\n",
    "              validation_data=(testX, testY),\n",
    "              steps_per_epoch=len(trainX) // batch_size,\n",
    "              epochs=epochs, verbose=1)"
   ]
  },
  {
   "cell_type": "code",
   "execution_count": null,
   "id": "2717e440-8c44-410a-ac50-fec13a40237e",
   "metadata": {},
   "outputs": [],
   "source": [
    "# Save the model to disk\n",
    "model_path = os.path.join(output_dir, 'gender_detection.h5')\n",
    "model.save(model_path)\n",
    "print(f\"Model saved at {model_path}\")"
   ]
  },
  {
   "cell_type": "code",
   "execution_count": null,
   "id": "1b3d1cab-bb5d-4a17-9425-13be6235f161",
   "metadata": {},
   "outputs": [],
   "source": [
    "# Plot training/validation loss/accuracy\n",
    "plt.style.use(\"ggplot\")\n",
    "plt.figure()\n",
    "N = epochs\n",
    "plt.plot(np.arange(0, N), H.history[\"loss\"], label=\"train_loss\")\n",
    "plt.plot(np.arange(0, N), H.history[\"val_loss\"], label=\"val_loss\")\n",
    "plt.plot(np.arange(0, N), H.history[\"accuracy\"], label=\"train_acc\")\n",
    "plt.plot(np.arange(0, N), H.history[\"val_accuracy\"], label=\"val_acc\")\n",
    "plt.title(\"Training Loss and Accuracy\")\n",
    "plt.xlabel(\"Epoch #\")\n",
    "plt.ylabel(\"Loss/Accuracy\")\n",
    "plt.legend(loc=\"upper right\")"
   ]
  },
  {
   "cell_type": "code",
   "execution_count": null,
   "id": "b90f7718-7c88-499b-a257-59243ab975ef",
   "metadata": {},
   "outputs": [],
   "source": [
    "# Save plot to disk\n",
    "plot_path = os.path.join(output_dir, 'training_plot.png')\n",
    "plt.savefig(plot_path)\n",
    "print(f\"Training plot saved at {plot_path}\")\n"
   ]
  }
 ],
 "metadata": {
  "kernelspec": {
   "display_name": "Python [conda env:base] *",
   "language": "python",
   "name": "conda-base-py"
  },
  "language_info": {
   "codemirror_mode": {
    "name": "ipython",
    "version": 3
   },
   "file_extension": ".py",
   "mimetype": "text/x-python",
   "name": "python",
   "nbconvert_exporter": "python",
   "pygments_lexer": "ipython3",
   "version": "3.12.7"
  }
 },
 "nbformat": 4,
 "nbformat_minor": 5
}
